{
 "cells": [
  {
   "cell_type": "code",
   "execution_count": 1,
   "id": "c4917c6d",
   "metadata": {},
   "outputs": [],
   "source": [
    "import pandas as pd\n",
    "from selenium import webdriver\n",
    "from selenium.webdriver.common.by import By\n",
    "\n",
    "from selenium.webdriver.chrome.service import Service\n",
    "import time"
   ]
  },
  {
   "cell_type": "code",
   "execution_count": 7,
   "id": "22412501",
   "metadata": {},
   "outputs": [],
   "source": [
    "\n",
    "s=Service(\"C:\\\\Users\\\\admin\\\\chromedriver.exe\")\n",
    "browser = webdriver.Chrome(service=s)\n",
    "\n",
    "\n",
    "s1=Service(\"C:\\\\Users\\\\admin\\\\chromedriver.exe\")\n",
    "browser2 = webdriver.Chrome(service=s1)\n",
    "\n",
    "\n"
   ]
  },
  {
   "cell_type": "code",
   "execution_count": 33,
   "id": "39dc46df",
   "metadata": {},
   "outputs": [
    {
     "name": "stdout",
     "output_type": "stream",
     "text": [
      "Enter page number : 8\n"
     ]
    }
   ],
   "source": [
    "url = \"https://yoshops.com/products?page=\"\n",
    "\n",
    "\n",
    "i = int(input(\"Enter page number : \"))\n",
    "new_url = url + str(i)"
   ]
  },
  {
   "cell_type": "code",
   "execution_count": 34,
   "id": "d9a299b4",
   "metadata": {},
   "outputs": [
    {
     "name": "stderr",
     "output_type": "stream",
     "text": [
      "<ipython-input-34-1453f59be9fd>:3: DeprecationWarning: find_elements_by_xpath is deprecated. Please use find_elements(by=By.XPATH, value=xpath) instead\n",
      "  productLinks = browser.find_elements_by_xpath(\"//a[@class='product-link']\")\n"
     ]
    }
   ],
   "source": [
    "browser.get(new_url)\n",
    "time.sleep(5)\n",
    "productLinks = browser.find_elements_by_xpath(\"//a[@class='product-link']\")\n",
    "product_name_list = browser.find_elements(By.CLASS_NAME, \"product-title\")\n"
   ]
  },
  {
   "cell_type": "code",
   "execution_count": 35,
   "id": "74ab668e",
   "metadata": {},
   "outputs": [],
   "source": [
    "name=[]\n",
    "link=[]\n",
    "review=[]\n",
    "no_of_revi=[]\n",
    "e=[]"
   ]
  },
  {
   "cell_type": "code",
   "execution_count": 36,
   "id": "cd0b0615",
   "metadata": {},
   "outputs": [],
   "source": [
    "for j in range(len(productLinks)):\n",
    "    \n",
    "    product_link = productLinks[j].get_attribute('href')\n",
    "    product_name = product_name_list[j].text\n",
    "\n",
    "\n",
    "    browser2.get(product_link)\n",
    "    time.sleep(20)\n",
    "    product_review = browser2.find_elements(By.CLASS_NAME, \"content-review\")\n",
    "    product_rating = browser2.find_elements(By.CLASS_NAME, \"yotpo-stars\")\n",
    "\n",
    "    product_review = [p.text for p in product_review]\n",
    "\n",
    "    product_review = list(filter(None,product_review))\n",
    "\n",
    "    no_of_review = len(product_review)\n",
    "\n",
    "    name.append(product_name)\n",
    "    link.append(product_link)\n",
    "    review.append(product_review)\n",
    "    no_of_revi.append(no_of_review)\n",
    "    \n",
    "    \n",
    "    \n",
    "    if len(product_rating) > 0:\n",
    "    #time.sleep(10)\n",
    "        e.append(product_rating[0].text)\n",
    "    else:\n",
    "        e.append('BLANK')"
   ]
  },
  {
   "cell_type": "code",
   "execution_count": 37,
   "id": "97fba5a6",
   "metadata": {},
   "outputs": [],
   "source": [
    "data = { 'PRODUCT NAME' : name, 'PRODUCT LINK' : link, 'PRODUCT REVIEW' : review, 'NO OF REVIEW' : no_of_revi, 'PRODUCT RATING' : e}\n",
    "data = pd.DataFrame(data)\n"
   ]
  },
  {
   "cell_type": "code",
   "execution_count": 39,
   "id": "abb58e21",
   "metadata": {},
   "outputs": [],
   "source": [
    "file_name = 'Product_details_8.xlsx'\n",
    "data.to_excel(file_name)\n"
   ]
  },
  {
   "cell_type": "code",
   "execution_count": null,
   "id": "9343cbed",
   "metadata": {},
   "outputs": [],
   "source": []
  }
 ],
 "metadata": {
  "kernelspec": {
   "display_name": "Python 3",
   "language": "python",
   "name": "python3"
  },
  "language_info": {
   "codemirror_mode": {
    "name": "ipython",
    "version": 3
   },
   "file_extension": ".py",
   "mimetype": "text/x-python",
   "name": "python",
   "nbconvert_exporter": "python",
   "pygments_lexer": "ipython3",
   "version": "3.8.8"
  }
 },
 "nbformat": 4,
 "nbformat_minor": 5
}
